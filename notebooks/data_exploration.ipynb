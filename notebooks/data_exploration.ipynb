{
 "cells": [
  {
   "cell_type": "markdown",
   "id": "36259dc4",
   "metadata": {},
   "source": [
    "# Data Exploration"
   ]
  },
  {
   "cell_type": "markdown",
   "id": "9367c61b",
   "metadata": {},
   "source": [
    "## Import Data"
   ]
  },
  {
   "cell_type": "code",
   "execution_count": 22,
   "id": "22de09a8",
   "metadata": {},
   "outputs": [],
   "source": [
    "from collections import defaultdict\n",
    "from gensim.utils import tokenize\n",
    "from gensim.parsing.preprocessing import remove_stopwords\n",
    "\n",
    "import gensim\n",
    "\n",
    "import matplotlib.pyplot as plt\n",
    "import numpy as np\n",
    "import pandas as pd\n",
    "import re"
   ]
  },
  {
   "cell_type": "code",
   "execution_count": 2,
   "id": "8cfd576c",
   "metadata": {
    "scrolled": true
   },
   "outputs": [
    {
     "data": {
      "text/html": [
       "<div>\n",
       "<style scoped>\n",
       "    .dataframe tbody tr th:only-of-type {\n",
       "        vertical-align: middle;\n",
       "    }\n",
       "\n",
       "    .dataframe tbody tr th {\n",
       "        vertical-align: top;\n",
       "    }\n",
       "\n",
       "    .dataframe thead th {\n",
       "        text-align: right;\n",
       "    }\n",
       "</style>\n",
       "<table border=\"1\" class=\"dataframe\">\n",
       "  <thead>\n",
       "    <tr style=\"text-align: right;\">\n",
       "      <th></th>\n",
       "      <th>UserName</th>\n",
       "      <th>ScreenName</th>\n",
       "      <th>Location</th>\n",
       "      <th>TweetAt</th>\n",
       "      <th>OriginalTweet</th>\n",
       "      <th>Sentiment</th>\n",
       "    </tr>\n",
       "  </thead>\n",
       "  <tbody>\n",
       "    <tr>\n",
       "      <th>0</th>\n",
       "      <td>3799</td>\n",
       "      <td>48751</td>\n",
       "      <td>London</td>\n",
       "      <td>16-03-2020</td>\n",
       "      <td>@MeNyrbie @Phil_Gahan @Chrisitv https://t.co/i...</td>\n",
       "      <td>Neutral</td>\n",
       "    </tr>\n",
       "    <tr>\n",
       "      <th>1</th>\n",
       "      <td>3800</td>\n",
       "      <td>48752</td>\n",
       "      <td>UK</td>\n",
       "      <td>16-03-2020</td>\n",
       "      <td>advice Talk to your neighbours family to excha...</td>\n",
       "      <td>Positive</td>\n",
       "    </tr>\n",
       "    <tr>\n",
       "      <th>2</th>\n",
       "      <td>3801</td>\n",
       "      <td>48753</td>\n",
       "      <td>Vagabonds</td>\n",
       "      <td>16-03-2020</td>\n",
       "      <td>Coronavirus Australia: Woolworths to give elde...</td>\n",
       "      <td>Positive</td>\n",
       "    </tr>\n",
       "    <tr>\n",
       "      <th>3</th>\n",
       "      <td>3802</td>\n",
       "      <td>48754</td>\n",
       "      <td>NaN</td>\n",
       "      <td>16-03-2020</td>\n",
       "      <td>My food stock is not the only one which is emp...</td>\n",
       "      <td>Positive</td>\n",
       "    </tr>\n",
       "    <tr>\n",
       "      <th>4</th>\n",
       "      <td>3803</td>\n",
       "      <td>48755</td>\n",
       "      <td>NaN</td>\n",
       "      <td>16-03-2020</td>\n",
       "      <td>Me, ready to go at supermarket during the #COV...</td>\n",
       "      <td>Extremely Negative</td>\n",
       "    </tr>\n",
       "    <tr>\n",
       "      <th>...</th>\n",
       "      <td>...</td>\n",
       "      <td>...</td>\n",
       "      <td>...</td>\n",
       "      <td>...</td>\n",
       "      <td>...</td>\n",
       "      <td>...</td>\n",
       "    </tr>\n",
       "    <tr>\n",
       "      <th>41152</th>\n",
       "      <td>44951</td>\n",
       "      <td>89903</td>\n",
       "      <td>Wellington City, New Zealand</td>\n",
       "      <td>14-04-2020</td>\n",
       "      <td>Airline pilots offering to stock supermarket s...</td>\n",
       "      <td>Neutral</td>\n",
       "    </tr>\n",
       "    <tr>\n",
       "      <th>41153</th>\n",
       "      <td>44952</td>\n",
       "      <td>89904</td>\n",
       "      <td>NaN</td>\n",
       "      <td>14-04-2020</td>\n",
       "      <td>Response to complaint not provided citing COVI...</td>\n",
       "      <td>Extremely Negative</td>\n",
       "    </tr>\n",
       "    <tr>\n",
       "      <th>41154</th>\n",
       "      <td>44953</td>\n",
       "      <td>89905</td>\n",
       "      <td>NaN</td>\n",
       "      <td>14-04-2020</td>\n",
       "      <td>You know its getting tough when @KameronWilds...</td>\n",
       "      <td>Positive</td>\n",
       "    </tr>\n",
       "    <tr>\n",
       "      <th>41155</th>\n",
       "      <td>44954</td>\n",
       "      <td>89906</td>\n",
       "      <td>NaN</td>\n",
       "      <td>14-04-2020</td>\n",
       "      <td>Is it wrong that the smell of hand sanitizer i...</td>\n",
       "      <td>Neutral</td>\n",
       "    </tr>\n",
       "    <tr>\n",
       "      <th>41156</th>\n",
       "      <td>44955</td>\n",
       "      <td>89907</td>\n",
       "      <td>i love you so much || he/him</td>\n",
       "      <td>14-04-2020</td>\n",
       "      <td>@TartiiCat Well new/used Rift S are going for ...</td>\n",
       "      <td>Negative</td>\n",
       "    </tr>\n",
       "  </tbody>\n",
       "</table>\n",
       "<p>41157 rows × 6 columns</p>\n",
       "</div>"
      ],
      "text/plain": [
       "       UserName  ScreenName                      Location     TweetAt  \\\n",
       "0          3799       48751                        London  16-03-2020   \n",
       "1          3800       48752                            UK  16-03-2020   \n",
       "2          3801       48753                     Vagabonds  16-03-2020   \n",
       "3          3802       48754                           NaN  16-03-2020   \n",
       "4          3803       48755                           NaN  16-03-2020   \n",
       "...         ...         ...                           ...         ...   \n",
       "41152     44951       89903  Wellington City, New Zealand  14-04-2020   \n",
       "41153     44952       89904                           NaN  14-04-2020   \n",
       "41154     44953       89905                           NaN  14-04-2020   \n",
       "41155     44954       89906                           NaN  14-04-2020   \n",
       "41156     44955       89907  i love you so much || he/him  14-04-2020   \n",
       "\n",
       "                                           OriginalTweet           Sentiment  \n",
       "0      @MeNyrbie @Phil_Gahan @Chrisitv https://t.co/i...             Neutral  \n",
       "1      advice Talk to your neighbours family to excha...            Positive  \n",
       "2      Coronavirus Australia: Woolworths to give elde...            Positive  \n",
       "3      My food stock is not the only one which is emp...            Positive  \n",
       "4      Me, ready to go at supermarket during the #COV...  Extremely Negative  \n",
       "...                                                  ...                 ...  \n",
       "41152  Airline pilots offering to stock supermarket s...             Neutral  \n",
       "41153  Response to complaint not provided citing COVI...  Extremely Negative  \n",
       "41154  You know its getting tough when @KameronWilds...            Positive  \n",
       "41155  Is it wrong that the smell of hand sanitizer i...             Neutral  \n",
       "41156  @TartiiCat Well new/used Rift S are going for ...            Negative  \n",
       "\n",
       "[41157 rows x 6 columns]"
      ]
     },
     "execution_count": 2,
     "metadata": {},
     "output_type": "execute_result"
    }
   ],
   "source": [
    "raw_data = pd.read_csv(\"../data/sample_data.csv\")\n",
    "raw_data"
   ]
  },
  {
   "cell_type": "markdown",
   "id": "aac638ab",
   "metadata": {},
   "source": [
    "Apparentely, we are dealing with data from twitter that seems to be intended for sentiment analysis. Since our task is to train word embeddings the only relevant column is \"OriginalTweet\", which will serve as a corpus."
   ]
  },
  {
   "cell_type": "code",
   "execution_count": 21,
   "id": "73f418cd",
   "metadata": {
    "scrolled": true
   },
   "outputs": [
    {
     "data": {
      "image/png": "[encoded data removed]",
      "text/plain": [
       "<Figure size 432x288 with 1 Axes>"
      ]
     },
     "metadata": {
      "needs_background": "light"
     },
     "output_type": "display_data"
    }
   ],
   "source": [
    "raw_data[\"Sentiment\"].hist();"
   ]
  },
  {
   "cell_type": "markdown",
   "id": "87f75b91",
   "metadata": {},
   "source": [
    "For a supervised approach, i.e. producing word embeddings with respect to their contribution to the sentiment of the tweet, the classes are mostly balanced."
   ]
  },
  {
   "cell_type": "markdown",
   "id": "0cebf484",
   "metadata": {},
   "source": [
    "## Data Inventory"
   ]
  },
  {
   "cell_type": "code",
   "execution_count": 3,
   "id": "ba5a0c3b",
   "metadata": {},
   "outputs": [],
   "source": [
    "corpus = raw_data[[\"OriginalTweet\"]]"
   ]
  },
  {
   "cell_type": "markdown",
   "id": "50d447c4",
   "metadata": {},
   "source": [
    "Check for null values in the corpus:"
   ]
  },
  {
   "cell_type": "code",
   "execution_count": 4,
   "id": "3cd768e8",
   "metadata": {},
   "outputs": [
    {
     "data": {
      "text/plain": [
       "OriginalTweet    False\n",
       "dtype: bool"
      ]
     },
     "execution_count": 4,
     "metadata": {},
     "output_type": "execute_result"
    }
   ],
   "source": [
    "corpus.isnull().any()"
   ]
  },
  {
   "cell_type": "markdown",
   "id": "82929272",
   "metadata": {},
   "source": [
    "### Rudimentary Cleaning"
   ]
  },
  {
   "cell_type": "markdown",
   "id": "83b445ca",
   "metadata": {},
   "source": [
    "As we are dealing with tweets, we are expecting lots of special characters, like # for tags and @ for user-names. In addition, there seem to be urls, that we may need to clean up. To this end, we define a very small test case and develop regular expressions to match and replace them."
   ]
  },
  {
   "cell_type": "code",
   "execution_count": 5,
   "id": "18bb33ad",
   "metadata": {},
   "outputs": [],
   "source": [
    "test = \"#hashtag @username https://this.is.an/url\""
   ]
  },
  {
   "cell_type": "markdown",
   "id": "d6b8496b",
   "metadata": {},
   "source": [
    "First, we replace the usernames with a token \"__username__\" indicating that this word was a username:"
   ]
  },
  {
   "cell_type": "code",
   "execution_count": 6,
   "id": "96b36570",
   "metadata": {},
   "outputs": [],
   "source": [
    "usernames = re.compile(\"@\\w*\")"
   ]
  },
  {
   "cell_type": "markdown",
   "id": "974d4354",
   "metadata": {},
   "source": [
    "Second, we replace URLs similarly with a token \"__url__\". To that end, we use the suggested regular expression from https://www.w3resource.com/python-exercises/re/python-re-exercise-42.php:"
   ]
  },
  {
   "cell_type": "code",
   "execution_count": 7,
   "id": "6171dae4",
   "metadata": {},
   "outputs": [],
   "source": [
    "urls = re.compile('http[s]?://(?:[a-zA-Z]|[0-9]|[$-_@.&+]|[!*\\(\\),]|(?:%[0-9a-fA-F][0-9a-fA-F]))+')"
   ]
  },
  {
   "cell_type": "markdown",
   "id": "e8bd02ee",
   "metadata": {},
   "source": [
    "Finally, we match and reformat hashtags, replacing the hash symbol, but retaining the tag itself. When generating word embeddings for tweets to find similarity, finding \"similar hashtags\" might be of interest. However, this decision might be revisted at a later point."
   ]
  },
  {
   "cell_type": "code",
   "execution_count": 8,
   "id": "127ecf07",
   "metadata": {},
   "outputs": [],
   "source": [
    "hashtags = re.compile(\"#+?(?=\\w*)\")"
   ]
  },
  {
   "cell_type": "markdown",
   "id": "47541a05",
   "metadata": {},
   "source": [
    "Test regular expressions:"
   ]
  },
  {
   "cell_type": "code",
   "execution_count": 9,
   "id": "d618a1e6",
   "metadata": {},
   "outputs": [
    {
     "data": {
      "text/plain": [
       "'__hashtag__hashtag __username__ __url__'"
      ]
     },
     "execution_count": 9,
     "metadata": {},
     "output_type": "execute_result"
    }
   ],
   "source": [
    "def replace_with_tokens(text):\n",
    "    text = usernames.sub(\"__username__\", text)\n",
    "    text = urls.sub(\"__url__\", text)\n",
    "    text = hashtags.sub(\"__hashtag__\", text)\n",
    "    return text\n",
    "\n",
    "replace_with_tokens(test)"
   ]
  },
  {
   "cell_type": "markdown",
   "id": "6c9b3979",
   "metadata": {},
   "source": [
    "Apply to corpus"
   ]
  },
  {
   "cell_type": "code",
   "execution_count": 10,
   "id": "28700964",
   "metadata": {},
   "outputs": [],
   "source": [
    "clean_corpus = corpus[\"OriginalTweet\"].apply(replace_with_tokens)"
   ]
  },
  {
   "cell_type": "markdown",
   "id": "b7fc0a66",
   "metadata": {},
   "source": [
    "### Dictionary"
   ]
  },
  {
   "cell_type": "code",
   "execution_count": 11,
   "id": "38f72b92",
   "metadata": {},
   "outputs": [],
   "source": [
    "tokenized_clean_corpus = clean_corpus.apply(lambda x: list(tokenize(x)))"
   ]
  },
  {
   "cell_type": "markdown",
   "id": "ccbd4c13",
   "metadata": {},
   "source": [
    "For convenience, flatten the different tweets into one big list of tokens:"
   ]
  },
  {
   "cell_type": "code",
   "execution_count": 12,
   "id": "39a4d94b",
   "metadata": {},
   "outputs": [],
   "source": [
    "flat_corpus = []\n",
    "for token_list in tokenized_clean_corpus.values:\n",
    "    flat_corpus.extend(token_list)"
   ]
  },
  {
   "cell_type": "code",
   "execution_count": 13,
   "id": "a7df8688",
   "metadata": {},
   "outputs": [
    {
     "name": "stdout",
     "output_type": "stream",
     "text": [
      "The corpus contains 61222 unique words!\n"
     ]
    }
   ],
   "source": [
    "word_count_dict = defaultdict(int)\n",
    "for token in flat_corpus:\n",
    "    word_count_dict[token] += 1\n",
    "    \n",
    "print(f\"The corpus contains {len(word_count_dict.keys())} unique words!\")"
   ]
  },
  {
   "cell_type": "markdown",
   "id": "c18438a7",
   "metadata": {},
   "source": [
    "The corpus contains a lot of words already (more then 60.000). As a result, stemming might be necessary to keep word counts in check.\n",
    "\n",
    "Lets see the distribution of different tokens:"
   ]
  },
  {
   "cell_type": "code",
   "execution_count": 14,
   "id": "4aa075da",
   "metadata": {},
   "outputs": [
    {
     "data": {
      "image/png": "[encoded data removed]",
      "text/plain": [
       "<Figure size 432x288 with 1 Axes>"
      ]
     },
     "metadata": {
      "needs_background": "light"
     },
     "output_type": "display_data"
    }
   ],
   "source": [
    "plt.hist([np.log10(word_count) for word_count in word_count_dict.values()], bins=50, log=True)\n",
    "plt.xlabel(\"log(word_count)\")\n",
    "plt.ylabel(\"#words\")\n",
    "plt.show()"
   ]
  },
  {
   "cell_type": "markdown",
   "id": "cbf75b14",
   "metadata": {},
   "source": [
    "What we can see here is a rather large number of very sparsely populated words/tokens (less then 1-10 occurences in the whole corpus), and some highly populated words/tokens, with 10^4 to 10^5 occurences. Overall, the distribution is approximately exponential. Lets investigate both extremes."
   ]
  },
  {
   "cell_type": "code",
   "execution_count": 15,
   "id": "d3ada159",
   "metadata": {},
   "outputs": [],
   "source": [
    "sorted_keys = sorted(word_count_dict, key=word_count_dict.get)"
   ]
  },
  {
   "cell_type": "code",
   "execution_count": 16,
   "id": "3fd28a42",
   "metadata": {},
   "outputs": [
    {
     "data": {
      "text/plain": [
       "['poss',\n",
       " '__hashtag__ConfinementGeneral',\n",
       " 'litteraly',\n",
       " '__hashtag__CoronavirusFrance',\n",
       " 'Civics',\n",
       " '__hashtag__Rebel',\n",
       " '__hashtag__govindia',\n",
       " '__hashtag__manila',\n",
       " '__hashtag__horningsea',\n",
       " 'ADARA',\n",
       " 'Glitch',\n",
       " 'Stymies',\n",
       " 'inficted',\n",
       " 'goverments',\n",
       " 'guilde',\n",
       " 'safty',\n",
       " 'irosponcible',\n",
       " '__hashtag__iptvnew',\n",
       " '__hashtag__ipTv',\n",
       " 'IPTVLinks']"
      ]
     },
     "execution_count": 16,
     "metadata": {},
     "output_type": "execute_result"
    }
   ],
   "source": [
    "sorted_keys[:20]"
   ]
  },
  {
   "cell_type": "markdown",
   "id": "15bf97d4",
   "metadata": {},
   "source": [
    "Seemingly, the low end is composed of unpopular hashtags and typos. As a result the lower end is not particularly useful for training. As a result, we can focus on the top ~10.000 words. "
   ]
  },
  {
   "cell_type": "code",
   "execution_count": 17,
   "id": "63bb7cd5",
   "metadata": {},
   "outputs": [
    {
     "data": {
      "text/plain": [
       "['__hashtag__COVID',\n",
       " 'prices',\n",
       " 'COVID',\n",
       " 'at',\n",
       " 's',\n",
       " 'you',\n",
       " 'on',\n",
       " 'I',\n",
       " 'are',\n",
       " 'is',\n",
       " '__hashtag__coronavirus',\n",
       " 'for',\n",
       " '__username__',\n",
       " 'in',\n",
       " 'a',\n",
       " 'of',\n",
       " 'and',\n",
       " '__url__',\n",
       " 'to',\n",
       " 'the']"
      ]
     },
     "execution_count": 17,
     "metadata": {},
     "output_type": "execute_result"
    }
   ],
   "source": [
    "sorted_keys[-20:]"
   ]
  },
  {
   "cell_type": "markdown",
   "id": "be6b037b",
   "metadata": {},
   "source": [
    "The high end is composed of recently popular hashtags concerning the pandemie, our username and url tokens, as well as lots of stopwords. This observation motivates another cleaning step, removing the stopwords from the corpus!"
   ]
  },
  {
   "cell_type": "markdown",
   "id": "244f13fd",
   "metadata": {},
   "source": [
    "# Conclusion"
   ]
  },
  {
   "cell_type": "markdown",
   "id": "3fe3247e",
   "metadata": {},
   "source": [
    "This small data exploration served the purpose to familiarize ourselves with the data provided. Some observations are:\n",
    " - The dataset is quite small and may struggle to produce meaningful embeddings\n",
    " - The tweets contain many special characters indicating a function of the words, such as usernames, urls and hashtags.\n",
    " - Stopwords are very frequent and should be removed.\n",
    " - Some tweets are riddled with typos and may contain more varients of urls, usernames and hashtags that are misspelled.\n",
    " \n",
    "As we are dealing with a rather standard english text, I advocate to apply the standard preprocessing pipeline provided by modules like gensim, as well as tokenize the special words as demonstrated in this notebook. The former includes removal of stopwords, punctuation, and more. (https://radimrehurek.com/gensim/parsing/preprocessing.html)\n",
    "\n",
    "Note: We are skipping stemming as it may interfer with learning the proper meaning of the words, which may appear as nouns, verbs or adjectives in their stemmed form."
   ]
  },
  {
   "cell_type": "code",
   "execution_count": 31,
   "id": "a74b28e0",
   "metadata": {},
   "outputs": [
    {
     "data": {
      "text/plain": [
       "' hashtag hashtag'"
      ]
     },
     "execution_count": 31,
     "metadata": {},
     "output_type": "execute_result"
    }
   ],
   "source": [
    "gensim.parsing.preprocessing.strip_punctuation(\"__hashtag__hashtag\")"
   ]
  },
  {
   "cell_type": "code",
   "execution_count": 32,
   "id": "1daa62bf",
   "metadata": {},
   "outputs": [
    {
     "ename": "AttributeError",
     "evalue": "module 'gensim.utils' has no attribute 'remove_stopwords'",
     "output_type": "error",
     "traceback": [
      "\u001b[1;31m---------------------------------------------------------------------------\u001b[0m",
      "\u001b[1;31mAttributeError\u001b[0m                            Traceback (most recent call last)",
      "\u001b[1;32m<ipython-input-32-5f56ea6ddb46>\u001b[0m in \u001b[0;36m<module>\u001b[1;34m\u001b[0m\n\u001b[1;32m----> 1\u001b[1;33m \u001b[0mgensim\u001b[0m\u001b[1;33m.\u001b[0m\u001b[0mutils\u001b[0m\u001b[1;33m.\u001b[0m\u001b[0mremove_stopwords\u001b[0m\u001b[1;33m(\u001b[0m\u001b[1;33m[\u001b[0m\u001b[1;34m\"hello\"\u001b[0m\u001b[1;33m,\u001b[0m \u001b[1;34m\"is\"\u001b[0m\u001b[1;33m,\u001b[0m \u001b[1;34m\"and\"\u001b[0m\u001b[1;33m]\u001b[0m\u001b[1;33m)\u001b[0m\u001b[1;33m\u001b[0m\u001b[1;33m\u001b[0m\u001b[0m\n\u001b[0m",
      "\u001b[1;31mAttributeError\u001b[0m: module 'gensim.utils' has no attribute 'remove_stopwords'"
     ]
    }
   ],
   "source": [
    "gensim.utils.remove_stopwords([\"hello\", \"is\", \"and\"])"
   ]
  },
  {
   "cell_type": "code",
   "execution_count": null,
   "id": "dc9b85be",
   "metadata": {},
   "outputs": [],
   "source": []
  }
 ],
 "metadata": {
  "kernelspec": {
   "display_name": "local-venv",
   "language": "python",
   "name": "local-venv"
  },
  "language_info": {
   "codemirror_mode": {
    "name": "ipython",
    "version": 3
   },
   "file_extension": ".py",
   "mimetype": "text/x-python",
   "name": "python",
   "nbconvert_exporter": "python",
   "pygments_lexer": "ipython3",
   "version": "3.8.6"
  }
 },
 "nbformat": 4,
 "nbformat_minor": 5
}
